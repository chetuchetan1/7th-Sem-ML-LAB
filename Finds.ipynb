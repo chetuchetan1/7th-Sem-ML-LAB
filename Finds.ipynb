{
  "nbformat": 4,
  "nbformat_minor": 0,
  "metadata": {
    "colab": {
      "name": "Finds.ipynb",
      "version": "0.3.2",
      "provenance": [],
      "collapsed_sections": [],
      "include_colab_link": true
    },
    "kernelspec": {
      "name": "python3",
      "display_name": "Python 3"
    }
  },
  "cells": [
    {
      "cell_type": "markdown",
      "metadata": {
        "id": "view-in-github",
        "colab_type": "text"
      },
      "source": [
        "<a href=\"https://colab.research.google.com/github/chetuchetan1/7th-Sem-ML-LAB/blob/master/Finds.ipynb\" target=\"_parent\"><img src=\"https://colab.research.google.com/assets/colab-badge.svg\" alt=\"Open In Colab\"/></a>"
      ]
    },
    {
      "cell_type": "code",
      "metadata": {
        "id": "fmJ8X4V8KzCk",
        "colab_type": "code",
        "colab": {}
      },
      "source": [
        "import csv\n",
        "with open(\"/content/finds_1.csv\") as finds:\n",
        "  reader=csv.reader(finds)\n",
        "  data=list(reader)\n",
        "  \n",
        "  "
      ],
      "execution_count": 0,
      "outputs": []
    },
    {
      "cell_type": "code",
      "metadata": {
        "id": "O68alk-BMJ76",
        "colab_type": "code",
        "outputId": "b2ad27c0-047e-4712-f4cb-e34a9cfa398a",
        "colab": {
          "base_uri": "https://localhost:8080/",
          "height": 102
        }
      },
      "source": [
        "data\n",
        "  "
      ],
      "execution_count": 19,
      "outputs": [
        {
          "output_type": "execute_result",
          "data": {
            "text/plain": [
              "[['Sky', 'Airtemp', 'Humidity', 'Wind', 'Water', 'Forecast', 'WaterSport'],\n",
              " ['Sunny', 'Warm', 'Normal', 'Strong', 'Warm', 'Same', 'Yes'],\n",
              " ['Sunny', 'Warm', 'High', 'Strong', 'Warm', 'Same', 'Yes'],\n",
              " ['Cloudy', 'Cold', 'High', 'Strong', 'Warm', 'Change', 'No'],\n",
              " ['Sunny', 'Warm', 'High', 'Strong', 'Cool', 'Change', 'Yes']]"
            ]
          },
          "metadata": {
            "tags": []
          },
          "execution_count": 19
        }
      ]
    },
    {
      "cell_type": "code",
      "metadata": {
        "id": "MKpTt-DEQSMj",
        "colab_type": "code",
        "outputId": "80c1e1a9-3888-49d3-aba9-6e1d2263ef78",
        "colab": {
          "base_uri": "https://localhost:8080/",
          "height": 34
        }
      },
      "source": [
        "h=['0','0','0','0','0','0']\n",
        "for row in data:\n",
        "  if row[-1]=='Yes':\n",
        "    j=0\n",
        "    for col in row:\n",
        "      if col!='Yes':\n",
        "        if col != h[j] and h[j]=='0':\n",
        "          h[j]=col\n",
        "        elif col != h[j] and h[j]!='0':\n",
        "          h[j]='?'\n",
        "      j=j+1\n",
        "print(h)\n",
        "      \n"
      ],
      "execution_count": 20,
      "outputs": [
        {
          "output_type": "stream",
          "text": [
            "['Sunny', 'Warm', '?', 'Strong', '?', '?']\n"
          ],
          "name": "stdout"
        }
      ]
    },
    {
      "cell_type": "code",
      "metadata": {
        "id": "zuRjp3quVvRV",
        "colab_type": "code",
        "colab": {}
      },
      "source": [
        ""
      ],
      "execution_count": 0,
      "outputs": []
    }
  ]
}