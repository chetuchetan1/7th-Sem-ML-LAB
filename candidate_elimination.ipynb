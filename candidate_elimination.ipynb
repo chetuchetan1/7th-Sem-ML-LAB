{
  "nbformat": 4,
  "nbformat_minor": 0,
  "metadata": {
    "colab": {
      "name": "candidate_elimination.ipynb",
      "version": "0.3.2",
      "provenance": [],
      "collapsed_sections": [],
      "include_colab_link": true
    },
    "kernelspec": {
      "name": "python3",
      "display_name": "Python 3"
    }
  },
  "cells": [
    {
      "cell_type": "markdown",
      "metadata": {
        "id": "view-in-github",
        "colab_type": "text"
      },
      "source": [
        "<a href=\"https://colab.research.google.com/github/chetuchetan1/7th-Sem-ML-LAB/blob/master/candidate_elimination.ipynb\" target=\"_parent\"><img src=\"https://colab.research.google.com/assets/colab-badge.svg\" alt=\"Open In Colab\"/></a>"
      ]
    },
    {
      "cell_type": "code",
      "metadata": {
        "id": "d0BCl5O1Zhsm",
        "colab_type": "code",
        "colab": {}
      },
      "source": [
        "import random\n",
        "import csv"
      ],
      "execution_count": 0,
      "outputs": []
    },
    {
      "cell_type": "code",
      "metadata": {
        "id": "ISlW5XD3lNLX",
        "colab_type": "code",
        "colab": {}
      },
      "source": [
        "def g_0(n):\n",
        "  return (\"?\",)*n\n",
        "def s_0(n):\n",
        "  return('0',)*n"
      ],
      "execution_count": 0,
      "outputs": []
    },
    {
      "cell_type": "code",
      "metadata": {
        "id": "n_Pu1d_3lhIQ",
        "colab_type": "code",
        "outputId": "b938a7ee-07fb-4dc7-8c11-eeebfff6de05",
        "colab": {
          "base_uri": "https://localhost:8080/",
          "height": 34
        }
      },
      "source": [
        "s_0(5)"
      ],
      "execution_count": 66,
      "outputs": [
        {
          "output_type": "execute_result",
          "data": {
            "text/plain": [
              "('0', '0', '0', '0', '0')"
            ]
          },
          "metadata": {
            "tags": []
          },
          "execution_count": 66
        }
      ]
    },
    {
      "cell_type": "code",
      "metadata": {
        "id": "ddrcZAJUljUA",
        "colab_type": "code",
        "outputId": "b4783f18-0041-481d-819b-0ec88c349c18",
        "colab": {
          "base_uri": "https://localhost:8080/",
          "height": 34
        }
      },
      "source": [
        "g_0(5)"
      ],
      "execution_count": 67,
      "outputs": [
        {
          "output_type": "execute_result",
          "data": {
            "text/plain": [
              "('?', '?', '?', '?', '?')"
            ]
          },
          "metadata": {
            "tags": []
          },
          "execution_count": 67
        }
      ]
    },
    {
      "cell_type": "code",
      "metadata": {
        "id": "BeX_Y8wQlmeQ",
        "colab_type": "code",
        "outputId": "d82ad248-33dd-454d-fccd-defce4dc9581",
        "colab": {
          "base_uri": "https://localhost:8080/",
          "height": 34
        }
      },
      "source": [
        "def more_general(h1,h2): #hypothesis\n",
        "  more_general_parts = [] # empty list\n",
        "  for x,y in zip(h1,h2):\n",
        "    mg = x == \"?\" or (x!= \"0\" and (x == y or y ==\"0\"))#most general\n",
        "    more_general_parts.append(mg)\n",
        "  return all(more_general_parts)\n",
        "\n",
        "l1 = [1,2,3]\n",
        "l2 = [3,4,5]\n",
        "\n",
        "list(zip(l1,l2))"
      ],
      "execution_count": 68,
      "outputs": [
        {
          "output_type": "execute_result",
          "data": {
            "text/plain": [
              "[(1, 3), (2, 4), (3, 5)]"
            ]
          },
          "metadata": {
            "tags": []
          },
          "execution_count": 68
        }
      ]
    },
    {
      "cell_type": "code",
      "metadata": {
        "id": "l0opZNPumXLk",
        "colab_type": "code",
        "colab": {}
      },
      "source": [
        "#min generaliztions\n",
        "def fulfills(example, hypothesis):\n",
        "  return more_general(hypothesis, example)\n",
        "\n",
        "def min_generalizations(h, x):\n",
        "  h_new = list(h)\n",
        "  for i in range(len(h)):\n",
        "    if not fulfills(x[i:i+1], h[i:i+1]):\n",
        "      h_new[i] = '?' if h[i] != '0' else x[i]\n",
        "  return [tuple(h_new)]"
      ],
      "execution_count": 0,
      "outputs": []
    },
    {
      "cell_type": "code",
      "metadata": {
        "id": "YLOa44jRpQoP",
        "colab_type": "code",
        "outputId": "e49d04d0-b47c-40c3-fd55-e9a58ce98f82",
        "colab": {
          "base_uri": "https://localhost:8080/",
          "height": 34
        }
      },
      "source": [
        "min_generalizations(h=('0','0','sunny'),\n",
        "                   x=('rainy','windy','cloudy'))"
      ],
      "execution_count": 70,
      "outputs": [
        {
          "output_type": "execute_result",
          "data": {
            "text/plain": [
              "[('rainy', 'windy', '?')]"
            ]
          },
          "metadata": {
            "tags": []
          },
          "execution_count": 70
        }
      ]
    },
    {
      "cell_type": "code",
      "metadata": {
        "id": "uKXWBBAdpuHP",
        "colab_type": "code",
        "colab": {}
      },
      "source": [
        "def min_specializations(h,domains,x):\n",
        "  results = []\n",
        "  for i in range(len(h)):\n",
        "    if h[i] == \"?\":\n",
        "      for val in domains[i]:\n",
        "        if x[i]!=val:\n",
        "          h_new = h[:i] + (val,)+h[i+1:]\n",
        "          results.append(h_new)\n",
        "    elif h[i] != \"0\":\n",
        "      h_new = h[:i] + ('0',)+h[i+1:]\n",
        "      results.append(h_new)\n",
        "  return results"
      ],
      "execution_count": 0,
      "outputs": []
    },
    {
      "cell_type": "code",
      "metadata": {
        "id": "1kKGHmHhQZN0",
        "colab_type": "code",
        "colab": {
          "base_uri": "https://localhost:8080/",
          "height": 34
        },
        "outputId": "c3137e7e-2bfb-431a-eb8f-07213d0daabe"
      },
      "source": [
        "min_specializations(h=('?','x',),\n",
        "                    domains = [['a','b','c',],['x','y']],\n",
        "                   x=('b','x'))\n",
        "\n",
        "  "
      ],
      "execution_count": 72,
      "outputs": [
        {
          "output_type": "execute_result",
          "data": {
            "text/plain": [
              "[('a', 'x'), ('c', 'x'), ('?', '0')]"
            ]
          },
          "metadata": {
            "tags": []
          },
          "execution_count": 72
        }
      ]
    },
    {
      "cell_type": "code",
      "metadata": {
        "id": "hG0jPUxYlGDH",
        "colab_type": "code",
        "colab": {}
      },
      "source": [
        "with open(r'wsce.csv')  as csvFile:\n",
        "        examples = [tuple(line) for line in csv.reader(csvFile)]"
      ],
      "execution_count": 0,
      "outputs": []
    },
    {
      "cell_type": "code",
      "metadata": {
        "id": "qKFLt1LQlJJ3",
        "colab_type": "code",
        "colab": {
          "base_uri": "https://localhost:8080/",
          "height": 87
        },
        "outputId": "08705ff5-1aaa-4bfa-b911-f1c6d576666c"
      },
      "source": [
        "examples"
      ],
      "execution_count": 74,
      "outputs": [
        {
          "output_type": "execute_result",
          "data": {
            "text/plain": [
              "[('Sunny', 'Warm', 'Normal', 'Strong', 'Warm', 'Same', 'Y'),\n",
              " ('Sunny', 'Warm', 'High', 'Strong', 'Warm', 'Same', 'Y'),\n",
              " ('Rainy', 'Cold', 'High', 'Strong', 'Warm', 'Change', 'N'),\n",
              " ('Sunny', 'Warm', 'High', 'Strong', 'Cool', 'Change', 'Y')]"
            ]
          },
          "metadata": {
            "tags": []
          },
          "execution_count": 74
        }
      ]
    },
    {
      "cell_type": "code",
      "metadata": {
        "id": "zg7WyWL4SV9b",
        "colab_type": "code",
        "colab": {}
      },
      "source": [
        "def get_domains(examples):\n",
        "  d = [set () for i in examples[0]]\n",
        "  for x in examples:\n",
        "    for i,xi in enumerate(x):\n",
        "      d[i].add(xi)\n",
        "  return [list(sorted(x)) for x in d]\n",
        "\n",
        "               "
      ],
      "execution_count": 0,
      "outputs": []
    },
    {
      "cell_type": "code",
      "metadata": {
        "id": "bMYMyxW1mrbP",
        "colab_type": "code",
        "colab": {
          "base_uri": "https://localhost:8080/",
          "height": 141
        },
        "outputId": "ca8fb450-a91c-436d-8499-4a28efd6b841"
      },
      "source": [
        "get_domains(examples)"
      ],
      "execution_count": 80,
      "outputs": [
        {
          "output_type": "execute_result",
          "data": {
            "text/plain": [
              "[['Rainy', 'Sunny'],\n",
              " ['Cold', 'Warm'],\n",
              " ['High', 'Normal'],\n",
              " ['Strong'],\n",
              " ['Cool', 'Warm'],\n",
              " ['Change', 'Same'],\n",
              " ['N', 'Y']]"
            ]
          },
          "metadata": {
            "tags": []
          },
          "execution_count": 80
        }
      ]
    },
    {
      "cell_type": "code",
      "metadata": {
        "id": "v5HCJ7NzjnT2",
        "colab_type": "code",
        "colab": {}
      },
      "source": [
        "def candidate_elimination(examples):\n",
        "    domains = get_domains(examples)[:-1]\n",
        "    \n",
        "    G = set([g_0(len(domains))])\n",
        "    S = set([s_0(len(domains))])\n",
        "    i=0\n",
        "    print(\"\\n G[{0}]:\".format(i),G)\n",
        "    print(\"\\n S[{0}]:\".format(i),S)\n",
        "    for xcx in examples:\n",
        "        i=i+1\n",
        "        x, cx = xcx[:-1], xcx[-1]  # Splitting data into attributes and decisions\n",
        "        if cx=='Y': # x is positive example\n",
        "            G = {g for g in G if fulfills(x, g)}\n",
        "            S = generalize_S(x, G, S)\n",
        "        else: # x is negative example\n",
        "            S = {s for s in S if not fulfills(x, s)}\n",
        "            G = specialize_G(x, domains, G, S)\n",
        "        print(\"\\n G[{0}]:\".format(i),G)\n",
        "        print(\"\\n S[{0}]:\".format(i),S)\n",
        "    return"
      ],
      "execution_count": 0,
      "outputs": []
    },
    {
      "cell_type": "code",
      "metadata": {
        "id": "azJp3AyQj99G",
        "colab_type": "code",
        "colab": {}
      },
      "source": [
        "def generalize_S(x, G, S):\n",
        "    S_prev = list(S)\n",
        "    for s in S_prev:\n",
        "        if s not in S:\n",
        "            continue\n",
        "        if not fulfills(x, s):\n",
        "            S.remove(s)\n",
        "            Splus = min_generalizations(s, x)\n",
        "            ## keep only generalizations that have a counterpart in G\n",
        "            S.update([h for h in Splus if any([more_general(g,h) \n",
        "                                               for g in G])])\n",
        "            ## remove hypotheses less specific than any other in S\n",
        "            S.difference_update([h for h in S if \n",
        "                                 any([more_general(h, h1) \n",
        "                                      for h1 in S if h != h1])])\n",
        "    return S"
      ],
      "execution_count": 0,
      "outputs": []
    },
    {
      "cell_type": "code",
      "metadata": {
        "id": "OFaiTWkRk3mG",
        "colab_type": "code",
        "colab": {}
      },
      "source": [
        "def specialize_G(x, domains, G, S):\n",
        "    G_prev = list(G)\n",
        "    for g in G_prev:\n",
        "        if g not in G:\n",
        "            continue\n",
        "        if fulfills(x, g):\n",
        "            G.remove(g)\n",
        "            Gminus = min_specializations(g, domains, x)\n",
        "            ## keep only specializations that have a conuterpart in S\n",
        "            G.update([h for h in Gminus if any([more_general(h, s)\n",
        "                                                for s in S])])\n",
        "            ## remove hypotheses less general than any other in G\n",
        "            G.difference_update([h for h in G if \n",
        "                                 any([more_general(g1, h) \n",
        "                                      for g1 in G if h != g1])])\n",
        "    return G"
      ],
      "execution_count": 0,
      "outputs": []
    },
    {
      "cell_type": "code",
      "metadata": {
        "id": "Lw4g5o3pk6jm",
        "colab_type": "code",
        "colab": {
          "base_uri": "https://localhost:8080/",
          "height": 372
        },
        "outputId": "87b85f7d-11e5-4c64-a36c-11e06578d94a"
      },
      "source": [
        "candidate_elimination(examples)"
      ],
      "execution_count": 79,
      "outputs": [
        {
          "output_type": "stream",
          "text": [
            "\n",
            " G[0]: {('?', '?', '?', '?', '?', '?')}\n",
            "\n",
            " S[0]: {('0', '0', '0', '0', '0', '0')}\n",
            "\n",
            " G[1]: {('?', '?', '?', '?', '?', '?')}\n",
            "\n",
            " S[1]: {('Sunny', 'Warm', 'Normal', 'Strong', 'Warm', 'Same')}\n",
            "\n",
            " G[2]: {('?', '?', '?', '?', '?', '?')}\n",
            "\n",
            " S[2]: {('Sunny', 'Warm', '?', 'Strong', 'Warm', 'Same')}\n",
            "\n",
            " G[3]: {('?', '?', '?', '?', '?', 'Same'), ('?', 'Warm', '?', '?', '?', '?'), ('Sunny', '?', '?', '?', '?', '?')}\n",
            "\n",
            " S[3]: {('Sunny', 'Warm', '?', 'Strong', 'Warm', 'Same')}\n",
            "\n",
            " G[4]: {('?', 'Warm', '?', '?', '?', '?'), ('Sunny', '?', '?', '?', '?', '?')}\n",
            "\n",
            " S[4]: {('Sunny', 'Warm', '?', 'Strong', '?', '?')}\n"
          ],
          "name": "stdout"
        }
      ]
    },
    {
      "cell_type": "code",
      "metadata": {
        "id": "otpfLhTkk9VG",
        "colab_type": "code",
        "colab": {}
      },
      "source": [
        ""
      ],
      "execution_count": 0,
      "outputs": []
    }
  ]
}