{
  "nbformat": 4,
  "nbformat_minor": 0,
  "metadata": {
    "colab": {
      "name": "candidate_elimination.ipynb",
      "version": "0.3.2",
      "provenance": [],
      "collapsed_sections": [],
      "include_colab_link": true
    },
    "kernelspec": {
      "name": "python3",
      "display_name": "Python 3"
    }
  },
  "cells": [
    {
      "cell_type": "markdown",
      "metadata": {
        "id": "view-in-github",
        "colab_type": "text"
      },
      "source": [
        "<a href=\"https://colab.research.google.com/github/chetuchetan1/7th-Sem-ML-LAB/blob/master/candidate_elimination.ipynb\" target=\"_parent\"><img src=\"https://colab.research.google.com/assets/colab-badge.svg\" alt=\"Open In Colab\"/></a>"
      ]
    },
    {
      "cell_type": "code",
      "metadata": {
        "id": "d0BCl5O1Zhsm",
        "colab_type": "code",
        "colab": {}
      },
      "source": [
        "import random\n",
        "import csv"
      ],
      "execution_count": 0,
      "outputs": []
    },
    {
      "cell_type": "code",
      "metadata": {
        "id": "ISlW5XD3lNLX",
        "colab_type": "code",
        "colab": {}
      },
      "source": [
        "def g_0(n):\n",
        "  return (\"?\",)*n\n",
        "def s_0(n):\n",
        "  return('0',)*n"
      ],
      "execution_count": 0,
      "outputs": []
    },
    {
      "cell_type": "code",
      "metadata": {
        "id": "n_Pu1d_3lhIQ",
        "colab_type": "code",
        "colab": {
          "base_uri": "https://localhost:8080/",
          "height": 35
        },
        "outputId": "1f5281d4-4e1a-4458-9176-c3cf3c007494"
      },
      "source": [
        "s_0(5)"
      ],
      "execution_count": 31,
      "outputs": [
        {
          "output_type": "execute_result",
          "data": {
            "text/plain": [
              "('0', '0', '0', '0', '0')"
            ]
          },
          "metadata": {
            "tags": []
          },
          "execution_count": 31
        }
      ]
    },
    {
      "cell_type": "code",
      "metadata": {
        "id": "ddrcZAJUljUA",
        "colab_type": "code",
        "colab": {
          "base_uri": "https://localhost:8080/",
          "height": 35
        },
        "outputId": "43e3a27e-3cef-4e89-beb3-263c623755ad"
      },
      "source": [
        "g_0(5)"
      ],
      "execution_count": 32,
      "outputs": [
        {
          "output_type": "execute_result",
          "data": {
            "text/plain": [
              "('?', '?', '?', '?', '?')"
            ]
          },
          "metadata": {
            "tags": []
          },
          "execution_count": 32
        }
      ]
    },
    {
      "cell_type": "code",
      "metadata": {
        "id": "BeX_Y8wQlmeQ",
        "colab_type": "code",
        "colab": {
          "base_uri": "https://localhost:8080/",
          "height": 35
        },
        "outputId": "a50c58d6-18a0-434c-996e-096117bf3db5"
      },
      "source": [
        "def more_general(h1,h2): #hypothesis\n",
        "  more_general_parts = [] # empty list\n",
        "  for x,y in zip(h1,h2):\n",
        "    mg = x == \"?\" or (x!= \"0\" and (x == y or y ==\"0\"))#most general\n",
        "    more_general_parts.append(mg)\n",
        "  return all(more_general_parts)\n",
        "\n",
        "l1 = [1,2,3]\n",
        "l2 = [3,4,5]\n",
        "\n",
        "list(zip(l1,l2))"
      ],
      "execution_count": 33,
      "outputs": [
        {
          "output_type": "execute_result",
          "data": {
            "text/plain": [
              "[(1, 3), (2, 4), (3, 5)]"
            ]
          },
          "metadata": {
            "tags": []
          },
          "execution_count": 33
        }
      ]
    },
    {
      "cell_type": "code",
      "metadata": {
        "id": "l0opZNPumXLk",
        "colab_type": "code",
        "colab": {}
      },
      "source": [
        "#min generaliztions\n",
        "def fulfills(example, hypothesis):\n",
        "  return more_general(hypothesis, example)\n",
        "\n",
        "def min_generalizations(h, x):\n",
        "  h_new = list(h)\n",
        "  for i in range(len(h)):\n",
        "    if not fulfills(x[i:i+1], h[i:i+1]):\n",
        "      h_new[i] = '?' if h[i] != '0' else x[i]\n",
        "  return [tuple(h_new)]"
      ],
      "execution_count": 0,
      "outputs": []
    },
    {
      "cell_type": "code",
      "metadata": {
        "id": "YLOa44jRpQoP",
        "colab_type": "code",
        "colab": {
          "base_uri": "https://localhost:8080/",
          "height": 35
        },
        "outputId": "fb4e04e6-ef28-4e07-da77-90520474369f"
      },
      "source": [
        "min_generalizations(h=('0','0','sunny'),\n",
        "                   x=('rainy','windy','cloudy'))"
      ],
      "execution_count": 35,
      "outputs": [
        {
          "output_type": "execute_result",
          "data": {
            "text/plain": [
              "[('rainy', 'windy', '?')]"
            ]
          },
          "metadata": {
            "tags": []
          },
          "execution_count": 35
        }
      ]
    },
    {
      "cell_type": "code",
      "metadata": {
        "id": "uKXWBBAdpuHP",
        "colab_type": "code",
        "colab": {}
      },
      "source": [
        ""
      ],
      "execution_count": 0,
      "outputs": []
    }
  ]
}